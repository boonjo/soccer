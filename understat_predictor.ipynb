{
 "cells": [
  {
   "cell_type": "code",
   "execution_count": 1,
   "metadata": {},
   "outputs": [],
   "source": [
    "import pandas as pd\n",
    "import asyncio\n",
    "import nest_asyncio\n",
    "nest_asyncio.apply()\n",
    "import json\n",
    "import aiohttp\n",
    "from understat import Understat\n",
    "import random\n",
    "import dataframe_image as dfi\n",
    "import numpy as np \n",
    "import matplotlib.pyplot as plt "
   ]
  },
  {
   "cell_type": "code",
   "execution_count": 2,
   "metadata": {},
   "outputs": [],
   "source": [
    "def calculateWinner(home, away):\n",
    "    HomeGoals = 0\n",
    "    AwayGoals = 0\n",
    "    \n",
    "    def testShots(shots):\n",
    "        Goals = 0\n",
    "        \n",
    "        for shot in shots:\n",
    "            if random.random() <= shot:\n",
    "                Goals += 1\n",
    "        return Goals\n",
    "    \n",
    "    HomeGoals = testShots(home)\n",
    "    AwayGoals = testShots(away)\n",
    "    \n",
    "    if HomeGoals > AwayGoals:\n",
    "        return(\"home\")\n",
    "    elif AwayGoals > HomeGoals:\n",
    "        return(\"away\")\n",
    "    else:\n",
    "        return(\"draw\")"
   ]
  },
  {
   "cell_type": "code",
   "execution_count": 3,
   "metadata": {},
   "outputs": [],
   "source": [
    "#Run xG calculator 10000 times to test winner %\n",
    "def calculateChance(team1, team2):\n",
    "    home = 0;\n",
    "    away = 0;\n",
    "    draw = 0;\n",
    "    \n",
    "    for i in range(0,10000):\n",
    "        matchWinner = calculateWinner(team1,team2)\n",
    "        if matchWinner == \"home\":\n",
    "            home +=1\n",
    "        elif matchWinner == \"away\":\n",
    "            away +=1\n",
    "        else:\n",
    "            draw +=1\n",
    "    home = home/100\n",
    "    away = away/100\n",
    "    draw = draw/100\n",
    "    return home, away, draw"
   ]
  },
  {
   "cell_type": "code",
   "execution_count": 4,
   "metadata": {},
   "outputs": [],
   "source": [
    "async def get_win_percent(match_id):\n",
    "    async with aiohttp.ClientSession() as session:\n",
    "        understat = Understat(session)\n",
    "        players = await understat.get_match_shots(match_id)\n",
    "        d = json.dumps(players)\n",
    "        with open('data.json', 'w') as f:\n",
    "            json.dump(players, f)\n",
    "        home = pd.DataFrame.from_dict(players['h'], orient='columns')\n",
    "        away = pd.DataFrame.from_dict(players['a'], orient='columns')\n",
    "        fixtures = await understat.get_league_results(\"epl\",2020)\n",
    "        results = pd.DataFrame.from_dict(fixtures, orient='columns')\n",
    "        homexg = home['xG'].tolist()\n",
    "        awayxg = away['xG'].tolist()\n",
    "        h_team = home.iloc[0]['h_team']\n",
    "        a_team = away.iloc[0]['a_team']\n",
    "        homexg = list(map(float, homexg))\n",
    "        awayxg = list(map(float, awayxg))\n",
    "        h, a, d = calculateChance(homexg, awayxg)\n",
    "        print(\"Over 10000 games, {} wins {}%, {} wins {}% and there is a draw in {}% of games.\".format(h_team,h,a_team, a, d))\n",
    "        \n",
    "        #create a pie chart\n",
    "        #start with setting up the dataset\n",
    "        outcomes = [h_team, a_team, 'Draw']\n",
    "        data = [h, a, d]\n",
    "        \n",
    "        #create explode data\n",
    "        explode = (0.1, 0.1, 0.1)\n",
    "        \n",
    "        #creating color parameters\n",
    "        colors = (\"orange\", \"cyan\", \"grey\")\n",
    "        \n",
    "        #wedge properties\n",
    "        wp = { 'linewidth' : 1, 'edgecolor' : \"black\" }\n",
    "        \n",
    "        #creating autocpt arguments \n",
    "        def func(pct, allvalues): \n",
    "            absolute = int(pct / 100.*np.sum(allvalues)) \n",
    "            return \"{:.1f}%\\n\".format(pct, absolute) \n",
    "        \n",
    "        #creating plot \n",
    "        fig, ax = plt.subplots(figsize =(10, 7),facecolor='white') \n",
    "        wedges, texts, autotexts = ax.pie(data, autopct = lambda pct: func(pct, data), explode = explode,\n",
    "                                          labels = outcomes, shadow = True, colors = colors, startangle = 90, \n",
    "                                          wedgeprops = wp, textprops = dict(color =\"maroon\")) \n",
    "    \n",
    "        plt.setp(autotexts, size = 8, weight =\"bold\") \n",
    "        ax.set_title(\"Win Percentage of 10000 Simulated Games for \" + h_team + \" vs \" + a_team) \n",
    "\n",
    "        #save and show plot \n",
    "        fig\n",
    "        plt.savefig(\"sim_piechart.png\",dpi=200)\n",
    "        plt.show()\n",
    "        \n",
    "loop = asyncio.get_event_loop()"
   ]
  },
  {
   "cell_type": "code",
   "execution_count": 5,
   "metadata": {},
   "outputs": [],
   "source": [
    "async def get_table(season_id,league):\n",
    "    async with aiohttp.ClientSession() as session:\n",
    "        understat = Understat(session)\n",
    "        fixtures = await understat.get_league_results(league,season_id)\n",
    "        results = pd.DataFrame.from_dict(fixtures, orient='columns')\n",
    "        l = len(results)\n",
    "        for i in range(0,l):\n",
    "            matc_id = results.iloc[i]['id']\n",
    "            players = await understat.get_match_shots(matc_id)\n",
    "            home = pd.DataFrame.from_dict(players['h'], orient='columns')\n",
    "            away = pd.DataFrame.from_dict(players['a'], orient='columns')\n",
    "            homexg = home['xG'].tolist()\n",
    "            awayxg = away['xG'].tolist()\n",
    "            homexg = list(map(float, homexg))\n",
    "            awayxg = list(map(float, awayxg))\n",
    "            h,a,d = calculateChance(homexg, awayxg)\n",
    "            h_team = home.iloc[0]['h_team']\n",
    "            a_team = away.iloc[0]['a_team']\n",
    "            pts.iloc[1][h_team] = pts.iloc[1][h_team] + 1.0\n",
    "            pts.iloc[1][a_team] = pts.iloc[1][a_team] + 1.0\n",
    "            pts.iloc[0][h_team] = pts.iloc[0][h_team] + (h/100)*3\n",
    "            pts.iloc[0][a_team] = pts.iloc[0][a_team] + (a/100)*3\n",
    "            pts.iloc[0][h_team] = pts.iloc[0][h_team] + (d/100)*1\n",
    "            pts.iloc[0][a_team] = pts.iloc[0][a_team] + (d/100)*1\n",
    "loop = asyncio.get_event_loop()"
   ]
  },
  {
   "cell_type": "code",
   "execution_count": 6,
   "metadata": {},
   "outputs": [
    {
     "name": "stdout",
     "output_type": "stream",
     "text": [
      "Please enter the match id: 14698\n",
      "Over 10000 games, Chelsea wins 93.23%, Everton wins 1.05% and there is a draw in 5.72% of games.\n"
     ]
    },
    {
     "data": {
      "image/png": "[encoded data removed]",
      "text/plain": [
       "<Figure size 720x504 with 1 Axes>"
      ]
     },
     "metadata": {},
     "output_type": "display_data"
    }
   ],
   "source": [
    "#Enter any match id you want\n",
    "match_id = input('Please enter the match id: ')\n",
    "asyncio.run(get_win_percent(match_id))"
   ]
  },
  {
   "cell_type": "code",
   "execution_count": 7,
   "metadata": {},
   "outputs": [
    {
     "name": "stdout",
     "output_type": "stream",
     "text": [
      "Expected points table generated\n"
     ]
    }
   ],
   "source": [
    "pts = pd.DataFrame({'Liverpool': [0], 'Manchester City':[0], 'Chelsea':[0], 'Leicester':[0], 'Manchester United':[0], 'Tottenham':[0], 'Wolverhampton Wanderers':[0], 'Sheffield United':[0], 'Burnley':[0], 'Arsenal':[0], 'Southampton':[0], 'Everton':[0], 'Newcastle United':[0], 'Crystal Palace':[0], 'West Ham':[0], 'Brighton':[0], 'Leeds':[0], 'Aston Villa':[0], 'West Bromwich Albion':[0], 'Fulham':[0]})\n",
    "pts.loc[len(pts)] = 0\n",
    "pts = pts.astype(float)\n",
    "asyncio.run(get_table(2019,\"epl\"))\n",
    "table = pts.transpose()\n",
    "table.columns = ['Expected points','Games played']\n",
    "table = table.sort_values(['Expected points'], ascending=[False])\n",
    "table.dfi.export('table.png')\n",
    "print('Expected points table generated')"
   ]
  },
  {
   "cell_type": "code",
   "execution_count": null,
   "metadata": {},
   "outputs": [],
   "source": []
  }
 ],
 "metadata": {
  "kernelspec": {
   "display_name": "Python 3",
   "language": "python",
   "name": "python3"
  },
  "language_info": {
   "codemirror_mode": {
    "name": "ipython",
    "version": 3
   },
   "file_extension": ".py",
   "mimetype": "text/x-python",
   "name": "python",
   "nbconvert_exporter": "python",
   "pygments_lexer": "ipython3",
   "version": "3.8.2"
  }
 },
 "nbformat": 4,
 "nbformat_minor": 2
}
